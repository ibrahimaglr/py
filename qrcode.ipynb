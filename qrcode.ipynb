{
 "cells": [
  {
   "cell_type": "code",
   "execution_count": 1,
   "id": "a0e1b58b",
   "metadata": {},
   "outputs": [],
   "source": [
    "#!pip install qrcode\n",
    "import qrcode"
   ]
  },
  {
   "cell_type": "code",
   "execution_count": 2,
   "id": "9ccd848c",
   "metadata": {},
   "outputs": [],
   "source": [
    "url = \"https://www.instagram.com/istatistikselanalizcom\"\n",
    "QRcode = qrcode.QRCode(\n",
    "    error_correction=qrcode.constants.ERROR_CORRECT_H)\n",
    "QRcode.add_data(url)\n",
    "QRcode.make()\n",
    "QRimg = QRcode.make_image(\n",
    "    fill_color =\"black\", back_color=\"white\").convert('RGB')\n",
    "QRimg.save(\"Qrcode.png\")"
   ]
  },
  {
   "cell_type": "code",
   "execution_count": null,
   "id": "1a621b0b",
   "metadata": {},
   "outputs": [],
   "source": []
  }
 ],
 "metadata": {
  "kernelspec": {
   "display_name": "Python 3 (ipykernel)",
   "language": "python",
   "name": "python3"
  },
  "language_info": {
   "codemirror_mode": {
    "name": "ipython",
    "version": 3
   },
   "file_extension": ".py",
   "mimetype": "text/x-python",
   "name": "python",
   "nbconvert_exporter": "python",
   "pygments_lexer": "ipython3",
   "version": "3.9.7"
  }
 },
 "nbformat": 4,
 "nbformat_minor": 5
}
