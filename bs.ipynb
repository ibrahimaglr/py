{
 "cells": [
  {
   "cell_type": "code",
   "execution_count": 1,
   "id": "9394e3c7",
   "metadata": {},
   "outputs": [],
   "source": [
    "import requests\n",
    "from bs4 import BeautifulSoup as bs\n",
    "from notifypy import Notify\n",
    "from os.path  import basename\n",
    "import os"
   ]
  },
  {
   "cell_type": "code",
   "execution_count": 2,
   "id": "4e2febe1",
   "metadata": {
    "scrolled": true
   },
   "outputs": [],
   "source": [
    "bolum=114\n",
    "for k in range(1,bolum):\n",
    "    bölümlink2 = \"https://asurascanstr.com/nano-machine-bolum-{}/\".format(k)\n",
    "    bölümlink=bölümlink2\n",
    "    header={'user-agent': 'asimmisirliFirefox'}\n",
    "    site = requests.get(bölümlink,headers=header)\n",
    "    sitechapter = bs(site.content,\"html.parser\")\n",
    "    chapter=sitechapter.find('div',{\"class\":\"rdminimal\"}).find_all(\"img\")\n",
    "    os.mkdir(\"D:/{}\".format(k))\n",
    "    parent_dir = \"D:/{}/\".format(k)\n",
    "    for i in chapter:\n",
    "        if \"http\" in i.get('src'):\n",
    "            lnk = i.get('src')\n",
    "            imgee = parent_dir + basename(lnk)\n",
    "            with open(imgee, \"wb\") as f:\n",
    "                f.write(requests.get(lnk).content)\n",
    "            f.close()"
   ]
  },
  {
   "cell_type": "code",
   "execution_count": null,
   "id": "4c9edbe5",
   "metadata": {},
   "outputs": [],
   "source": []
  }
 ],
 "metadata": {
  "kernelspec": {
   "display_name": "Python 3 (ipykernel)",
   "language": "python",
   "name": "python3"
  },
  "language_info": {
   "codemirror_mode": {
    "name": "ipython",
    "version": 3
   },
   "file_extension": ".py",
   "mimetype": "text/x-python",
   "name": "python",
   "nbconvert_exporter": "python",
   "pygments_lexer": "ipython3",
   "version": "3.9.7"
  }
 },
 "nbformat": 4,
 "nbformat_minor": 5
}
