{
 "cells": [
  {
   "cell_type": "code",
   "execution_count": 8,
   "id": "c91b6534",
   "metadata": {},
   "outputs": [],
   "source": [
    "#!pip install pytube\n",
    "from pytube import YouTube\n",
    "import os"
   ]
  },
  {
   "cell_type": "code",
   "execution_count": null,
   "id": "3ec7e944",
   "metadata": {},
   "outputs": [],
   "source": [
    "\n",
    "\n",
    "\n",
    "link = input(\"Enter the link of the video: \")\n",
    "directory = input(\"Enter the name of the outpit)directory: \")\n",
    "\n",
    "try:\n",
    "    yt = YouTube(link)\n",
    "    mp3 = yt.streams.filter(only_audio=True).first()\n",
    "    print(\"Downloading. \")\n",
    "\n",
    "    output = mp3.download(directory)\n",
    "\n",
    "    base, ext =os.path.splitext(output)\n",
    "\n",
    "    to_mp3 = base + \".mp3\"\n",
    "    os.rename(output, to_mp3)\n",
    "\n",
    "    print(\"Download complete\")\n",
    "\n",
    "except:\n",
    "    print(\"Link is not valid\")\n",
    "    %reset\n",
    "\n"
   ]
  },
  {
   "cell_type": "code",
   "execution_count": null,
   "id": "d6f4a5ae",
   "metadata": {},
   "outputs": [],
   "source": []
  }
 ],
 "metadata": {
  "kernelspec": {
   "display_name": "Python 3 (ipykernel)",
   "language": "python",
   "name": "python3"
  },
  "language_info": {
   "codemirror_mode": {
    "name": "ipython",
    "version": 3
   },
   "file_extension": ".py",
   "mimetype": "text/x-python",
   "name": "python",
   "nbconvert_exporter": "python",
   "pygments_lexer": "ipython3",
   "version": "3.9.7"
  }
 },
 "nbformat": 4,
 "nbformat_minor": 5
}
