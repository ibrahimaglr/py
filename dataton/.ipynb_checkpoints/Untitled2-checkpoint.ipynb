{
 "cells": [
  {
   "cell_type": "code",
   "execution_count": null,
   "id": "5b6236a0",
   "metadata": {},
   "outputs": [],
   "source": [
    "import numpy\n",
    "import pandas as pd\n",
    "from pandas import read_csv\n",
    "from keras.models import Sequential\n",
    "from sklearn.model_selection import train_test_split\n",
    "from sklearn.preprocessing import LabelEncoder\n",
    "from sklearn.ensemble import RandomForestRegressor\n",
    "from sklearn.metrics import r2_score"
   ]
  },
  {
   "cell_type": "code",
   "execution_count": 2,
   "id": "955be064",
   "metadata": {
    "scrolled": false
   },
   "outputs": [
    {
     "name": "stdout",
     "output_type": "stream",
     "text": [
      "<class 'pandas.core.frame.DataFrame'>\n",
      "RangeIndex: 227520 entries, 0 to 227519\n",
      "Data columns (total 8 columns):\n",
      " #   Column             Non-Null Count   Dtype  \n",
      "---  ------             --------------   -----  \n",
      " 0   tarih              227520 non-null  object \n",
      " 1   ürün               227520 non-null  object \n",
      " 2   ürün besin değeri  227520 non-null  int64  \n",
      " 3   ürün kategorisi    227520 non-null  object \n",
      " 4   ürün fiyatı        227520 non-null  float64\n",
      " 5   ürün üretim yeri   227520 non-null  object \n",
      " 6   market             227520 non-null  object \n",
      " 7   şehir              227520 non-null  object \n",
      "dtypes: float64(1), int64(1), object(6)\n",
      "memory usage: 13.9+ MB\n"
     ]
    }
   ],
   "source": [
    "df=pd.read_csv(\"train.csv\")\n",
    "df.info()"
   ]
  },
  {
   "cell_type": "code",
   "execution_count": 3,
   "id": "550634a5",
   "metadata": {},
   "outputs": [],
   "source": [
    "df.tarih=df.tarih.apply(pd.to_datetime)\n",
    "df['ts'] = df[['tarih']].apply(lambda x: x[0].timestamp(), axis=1).astype(int)"
   ]
  },
  {
   "cell_type": "code",
   "execution_count": 4,
   "id": "d3c58627",
   "metadata": {},
   "outputs": [],
   "source": [
    "le=LabelEncoder()\n",
    "df[\"ürün\"]=le.fit_transform(df[\"ürün\"])\n",
    "df[\"ürün üretim yeri\"]=le.fit_transform(df[\"ürün üretim yeri\"])\n",
    "df[\"market\"]=le.fit_transform(df[\"market\"])\n",
    "df[\"şehir\"]=le.fit_transform(df[\"şehir\"])\n",
    "#"
   ]
  },
  {
   "cell_type": "code",
   "execution_count": 6,
   "id": "9676469f",
   "metadata": {},
   "outputs": [
    {
     "name": "stdout",
     "output_type": "stream",
     "text": [
      "0.9940921610674596\n"
     ]
    }
   ],
   "source": [
    "# split into train and test sets\n",
    "x=df.loc[:,[\"ts\",\"ürün\",\"market\",\"şehir\",\"ürün üretim yeri\"]]\n",
    "y=df[\"ürün fiyatı\"]\n",
    "x_train,x_test,y_train,y_test=train_test_split(x,y,train_size=0.80,random_state=42)\n",
    "rf = RandomForestRegressor(n_estimators=2000)\n",
    "rf.fit(x_train,y_train)\n",
    "sonuc=rf.predict(x_test)\n",
    "r2 = r2_score(y_test, sonuc)\n",
    "print(r2)"
   ]
  },
  {
   "cell_type": "code",
   "execution_count": 7,
   "id": "f9a5494e",
   "metadata": {},
   "outputs": [
    {
     "name": "stdout",
     "output_type": "stream",
     "text": [
      "<class 'pandas.core.frame.DataFrame'>\n",
      "RangeIndex: 45504 entries, 0 to 45503\n",
      "Data columns (total 10 columns):\n",
      " #   Column             Non-Null Count  Dtype  \n",
      "---  ------             --------------  -----  \n",
      " 0   id                 45504 non-null  int64  \n",
      " 1   ürün               45504 non-null  int32  \n",
      " 2   ürün besin değeri  45504 non-null  int64  \n",
      " 3   ürün kategorisi    45504 non-null  object \n",
      " 4   ürün üretim yeri   45504 non-null  int32  \n",
      " 5   market             45504 non-null  int32  \n",
      " 6   şehir              45504 non-null  int32  \n",
      " 7   ts                 45504 non-null  float64\n",
      " 8   yıl                45504 non-null  int64  \n",
      " 9   ay                 45504 non-null  int64  \n",
      "dtypes: float64(1), int32(4), int64(4), object(1)\n",
      "memory usage: 2.8+ MB\n"
     ]
    }
   ],
   "source": [
    "df_2=pd.read_csv(\"testFeatures.csv\")\n",
    "\n",
    "df_2.tarih=df_2.tarih.apply(pd.to_datetime)\n",
    "df_2['ts'] = df_2[['tarih']].apply(lambda x: x[0].timestamp(), axis=1)\n",
    "df_2.tarih=df_2.tarih.apply(pd.to_datetime)\n",
    "df_2[\"yıl\"]=df_2.tarih.dt.year\n",
    "df_2[\"ay\"]=df_2.tarih.dt.month\n",
    "df_2=df_2.drop(\"tarih\",axis=1)\n",
    "\n",
    "\n",
    "df_2[\"ürün\"]=le.fit_transform(df_2[\"ürün\"])\n",
    "df_2[\"ürün üretim yeri\"]=le.fit_transform(df_2[\"ürün üretim yeri\"])\n",
    "df_2[\"market\"]=le.fit_transform(df_2[\"market\"])\n",
    "df_2[\"şehir\"]=le.fit_transform(df_2[\"şehir\"])\n",
    "x_test2=df_2.loc[:,[\"ts\",\"ürün\",\"market\",\"şehir\",\"ürün üretim yeri\"]]\n",
    "df_2.info()"
   ]
  },
  {
   "cell_type": "code",
   "execution_count": 8,
   "id": "684a7969",
   "metadata": {},
   "outputs": [],
   "source": [
    "sonuc=rf.predict(x_test2)\n",
    "sonuc_dp=pd.DataFrame(sonuc)\n",
    "sonuc_dp=sonuc_dp.reset_index()\n",
    "sonuc_dp=sonuc_dp.rename(columns={\"index\": \"id\",0:\"ürün fiyatı\"})\n",
    "sonuc_dp.to_csv(\"sonuc.csv\",index=False)"
   ]
  },
  {
   "cell_type": "code",
   "execution_count": null,
   "id": "e136d25f",
   "metadata": {},
   "outputs": [],
   "source": []
  }
 ],
 "metadata": {
  "kernelspec": {
   "display_name": "Python 3",
   "language": "python",
   "name": "python3"
  },
  "language_info": {
   "codemirror_mode": {
    "name": "ipython",
    "version": 3
   },
   "file_extension": ".py",
   "mimetype": "text/x-python",
   "name": "python",
   "nbconvert_exporter": "python",
   "pygments_lexer": "ipython3",
   "version": "3.8.8"
  }
 },
 "nbformat": 4,
 "nbformat_minor": 5
}
