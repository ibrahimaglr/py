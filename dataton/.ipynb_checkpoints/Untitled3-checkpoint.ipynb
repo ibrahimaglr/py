{
 "cells": [
  {
   "cell_type": "code",
   "execution_count": 1,
   "id": "9af35855",
   "metadata": {},
   "outputs": [],
   "source": [
    "import numpy as np\n",
    "import pandas as pd\n",
    "from sklearn.model_selection import train_test_split, cross_val_score\n",
    "from sklearn import preprocessing\n",
    "from sklearn.ensemble import RandomForestRegressor\n",
    "from sklearn.metrics import r2_score\n",
    "from sklearn.preprocessing import LabelEncoder,OneHotEncoder"
   ]
  },
  {
   "cell_type": "code",
   "execution_count": 2,
   "id": "8e6d32b6",
   "metadata": {},
   "outputs": [],
   "source": [
    "df=pd.read_csv(\"train.csv\")\n",
    "df.tarih=df.tarih.apply(pd.to_datetime)\n",
    "df['ts'] = df[['tarih']].apply(lambda x: x[0].timestamp(), axis=1)\n"
   ]
  },
  {
   "cell_type": "code",
   "execution_count": 3,
   "id": "5b61c641",
   "metadata": {},
   "outputs": [],
   "source": [
    "le=LabelEncoder()\n",
    "df[\"ürün\"]=le.fit_transform(df[\"ürün\"])\n",
    "df[\"ürün üretim yeri\"]=le.fit_transform(df[\"ürün üretim yeri\"])\n",
    "df[\"market\"]=le.fit_transform(df[\"market\"])\n",
    "df[\"şehir\"]=le.fit_transform(df[\"şehir\"])"
   ]
  },
  {
   "cell_type": "code",
   "execution_count": 4,
   "id": "570c4ad2",
   "metadata": {},
   "outputs": [],
   "source": [
    "x=df.loc[:,[\"ürün\",\"market\",\"şehir\",\"ürün üretim yeri\"]]\n",
    "ohe= preprocessing.OneHotEncoder()\n",
    "x3=ohe.fit_transform(x).toarray()"
   ]
  },
  {
   "cell_type": "code",
   "execution_count": 5,
   "id": "f623509f",
   "metadata": {},
   "outputs": [],
   "source": [
    "x=pd.DataFrame(x3)\n",
    "x2=df.loc[:,[\"ürün fiyatı\",\"ts\"]]\n",
    "df_2=pd.concat([x,x2],axis=1)"
   ]
  },
  {
   "cell_type": "code",
   "execution_count": 6,
   "id": "d31f03c7",
   "metadata": {
    "scrolled": true
   },
   "outputs": [
    {
     "name": "stdout",
     "output_type": "stream",
     "text": [
      "0.995028755501969\n"
     ]
    }
   ],
   "source": [
    "\n",
    "x=df_2.drop(columns=['ürün fiyatı'])\n",
    "y=df_2[\"ürün fiyatı\"]\n",
    "x_train,x_test,y_train,y_test=train_test_split(x,y,train_size=0.8,random_state=42)\n",
    "\n",
    "rf = RandomForestRegressor(n_estimators=1000)\n",
    "rf.fit(x_train,y_train)\n",
    "sonuc=rf.predict(x_test)\n",
    "r2 = r2_score(y_test, sonuc)\n",
    "print(r2)"
   ]
  },
  {
   "cell_type": "code",
   "execution_count": null,
   "id": "f7dcebee",
   "metadata": {},
   "outputs": [],
   "source": []
  }
 ],
 "metadata": {
  "kernelspec": {
   "display_name": "Python 3",
   "language": "python",
   "name": "python3"
  },
  "language_info": {
   "codemirror_mode": {
    "name": "ipython",
    "version": 3
   },
   "file_extension": ".py",
   "mimetype": "text/x-python",
   "name": "python",
   "nbconvert_exporter": "python",
   "pygments_lexer": "ipython3",
   "version": "3.8.8"
  }
 },
 "nbformat": 4,
 "nbformat_minor": 5
}
