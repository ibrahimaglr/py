{
 "cells": [
  {
   "cell_type": "code",
   "execution_count": 1,
   "id": "f7b87794",
   "metadata": {},
   "outputs": [],
   "source": [
    "import numpy as np\n",
    "import pandas as pd\n",
    "import seaborn as sns\n",
    "import matplotlib.pyplot as plt"
   ]
  },
  {
   "cell_type": "code",
   "execution_count": 2,
   "id": "daff54c8",
   "metadata": {
    "scrolled": true
   },
   "outputs": [
    {
     "name": "stdout",
     "output_type": "stream",
     "text": [
      "<class 'pandas.core.frame.DataFrame'>\n",
      "RangeIndex: 227520 entries, 0 to 227519\n",
      "Data columns (total 8 columns):\n",
      " #   Column             Non-Null Count   Dtype  \n",
      "---  ------             --------------   -----  \n",
      " 0   tarih              227520 non-null  object \n",
      " 1   ürün               227520 non-null  object \n",
      " 2   ürün besin değeri  227520 non-null  int64  \n",
      " 3   ürün kategorisi    227520 non-null  object \n",
      " 4   ürün fiyatı        227520 non-null  float64\n",
      " 5   ürün üretim yeri   227520 non-null  object \n",
      " 6   market             227520 non-null  object \n",
      " 7   şehir              227520 non-null  object \n",
      "dtypes: float64(1), int64(1), object(6)\n",
      "memory usage: 13.9+ MB\n"
     ]
    }
   ],
   "source": [
    "df=pd.read_csv(\"train.csv\")\n",
    "df.info()"
   ]
  },
  {
   "cell_type": "code",
   "execution_count": 3,
   "id": "5710f682",
   "metadata": {},
   "outputs": [
    {
     "data": {
      "text/html": [
       "<div>\n",
       "<style scoped>\n",
       "    .dataframe tbody tr th:only-of-type {\n",
       "        vertical-align: middle;\n",
       "    }\n",
       "\n",
       "    .dataframe tbody tr th {\n",
       "        vertical-align: top;\n",
       "    }\n",
       "\n",
       "    .dataframe thead th {\n",
       "        text-align: right;\n",
       "    }\n",
       "</style>\n",
       "<table border=\"1\" class=\"dataframe\">\n",
       "  <thead>\n",
       "    <tr style=\"text-align: right;\">\n",
       "      <th></th>\n",
       "      <th>tarih</th>\n",
       "      <th>ürün</th>\n",
       "      <th>ürün besin değeri</th>\n",
       "      <th>ürün kategorisi</th>\n",
       "      <th>ürün fiyatı</th>\n",
       "      <th>ürün üretim yeri</th>\n",
       "      <th>market</th>\n",
       "      <th>şehir</th>\n",
       "      <th>ts</th>\n",
       "    </tr>\n",
       "  </thead>\n",
       "  <tbody>\n",
       "    <tr>\n",
       "      <th>0</th>\n",
       "      <td>2016-01-01</td>\n",
       "      <td>kıyma</td>\n",
       "      <td>120</td>\n",
       "      <td>et</td>\n",
       "      <td>33.41</td>\n",
       "      <td>Yurt içi</td>\n",
       "      <td>M</td>\n",
       "      <td>A</td>\n",
       "      <td>1.451606e+09</td>\n",
       "    </tr>\n",
       "    <tr>\n",
       "      <th>1</th>\n",
       "      <td>2016-01-01</td>\n",
       "      <td>tavuk</td>\n",
       "      <td>103</td>\n",
       "      <td>et</td>\n",
       "      <td>11.22</td>\n",
       "      <td>Yurt içi</td>\n",
       "      <td>M</td>\n",
       "      <td>A</td>\n",
       "      <td>1.451606e+09</td>\n",
       "    </tr>\n",
       "    <tr>\n",
       "      <th>2</th>\n",
       "      <td>2016-01-01</td>\n",
       "      <td>hindi</td>\n",
       "      <td>160</td>\n",
       "      <td>et</td>\n",
       "      <td>11.12</td>\n",
       "      <td>Yurt içi</td>\n",
       "      <td>M</td>\n",
       "      <td>A</td>\n",
       "      <td>1.451606e+09</td>\n",
       "    </tr>\n",
       "    <tr>\n",
       "      <th>3</th>\n",
       "      <td>2016-01-01</td>\n",
       "      <td>Bakla-kuru</td>\n",
       "      <td>354</td>\n",
       "      <td>sebze ve bakliyat</td>\n",
       "      <td>7.02</td>\n",
       "      <td>Yurt içi</td>\n",
       "      <td>M</td>\n",
       "      <td>A</td>\n",
       "      <td>1.451606e+09</td>\n",
       "    </tr>\n",
       "    <tr>\n",
       "      <th>4</th>\n",
       "      <td>2016-01-01</td>\n",
       "      <td>Bakla-taze</td>\n",
       "      <td>72</td>\n",
       "      <td>sebze ve bakliyat</td>\n",
       "      <td>13.14</td>\n",
       "      <td>Yurt içi</td>\n",
       "      <td>M</td>\n",
       "      <td>A</td>\n",
       "      <td>1.451606e+09</td>\n",
       "    </tr>\n",
       "  </tbody>\n",
       "</table>\n",
       "</div>"
      ],
      "text/plain": [
       "       tarih        ürün  ürün besin değeri    ürün kategorisi  ürün fiyatı  \\\n",
       "0 2016-01-01       kıyma                120                 et        33.41   \n",
       "1 2016-01-01       tavuk                103                 et        11.22   \n",
       "2 2016-01-01       hindi                160                 et        11.12   \n",
       "3 2016-01-01  Bakla-kuru                354  sebze ve bakliyat         7.02   \n",
       "4 2016-01-01  Bakla-taze                 72  sebze ve bakliyat        13.14   \n",
       "\n",
       "  ürün üretim yeri market şehir            ts  \n",
       "0         Yurt içi      M     A  1.451606e+09  \n",
       "1         Yurt içi      M     A  1.451606e+09  \n",
       "2         Yurt içi      M     A  1.451606e+09  \n",
       "3         Yurt içi      M     A  1.451606e+09  \n",
       "4         Yurt içi      M     A  1.451606e+09  "
      ]
     },
     "execution_count": 3,
     "metadata": {},
     "output_type": "execute_result"
    }
   ],
   "source": [
    "df.tarih=df.tarih.apply(pd.to_datetime)\n",
    "df['ts'] = df[['tarih']].apply(lambda x: x[0].timestamp(), axis=1)\n",
    "df.head()"
   ]
  },
  {
   "cell_type": "code",
   "execution_count": 4,
   "id": "ada0c5df",
   "metadata": {},
   "outputs": [],
   "source": [
    "df[\"yıl\"]=df.tarih.dt.year\n",
    "df[\"ay\"]=df.tarih.dt.month\n",
    "df=df.drop(\"tarih\",axis=1)"
   ]
  },
  {
   "cell_type": "code",
   "execution_count": 5,
   "id": "e94a94a9",
   "metadata": {},
   "outputs": [],
   "source": [
    "from sklearn.preprocessing import LabelEncoder,OneHotEncoder\n",
    "le=LabelEncoder()\n",
    "df[\"ürün\"]=le.fit_transform(df[\"ürün\"])\n",
    "df[\"ürün üretim yeri\"]=le.fit_transform(df[\"ürün üretim yeri\"])\n",
    "df[\"market\"]=le.fit_transform(df[\"market\"])\n",
    "df[\"şehir\"]=le.fit_transform(df[\"şehir\"])\n"
   ]
  },
  {
   "cell_type": "code",
   "execution_count": 6,
   "id": "2594606e",
   "metadata": {},
   "outputs": [
    {
     "data": {
      "text/html": [
       "<div>\n",
       "<style scoped>\n",
       "    .dataframe tbody tr th:only-of-type {\n",
       "        vertical-align: middle;\n",
       "    }\n",
       "\n",
       "    .dataframe tbody tr th {\n",
       "        vertical-align: top;\n",
       "    }\n",
       "\n",
       "    .dataframe thead th {\n",
       "        text-align: right;\n",
       "    }\n",
       "</style>\n",
       "<table border=\"1\" class=\"dataframe\">\n",
       "  <thead>\n",
       "    <tr style=\"text-align: right;\">\n",
       "      <th></th>\n",
       "      <th>ürün</th>\n",
       "      <th>ürün besin değeri</th>\n",
       "      <th>ürün fiyatı</th>\n",
       "      <th>ürün üretim yeri</th>\n",
       "      <th>market</th>\n",
       "      <th>şehir</th>\n",
       "      <th>ts</th>\n",
       "      <th>yıl</th>\n",
       "      <th>ay</th>\n",
       "    </tr>\n",
       "  </thead>\n",
       "  <tbody>\n",
       "    <tr>\n",
       "      <th>count</th>\n",
       "      <td>227520.000000</td>\n",
       "      <td>227520.000000</td>\n",
       "      <td>227520.000000</td>\n",
       "      <td>227520.000000</td>\n",
       "      <td>227520.000000</td>\n",
       "      <td>227520.000000</td>\n",
       "      <td>2.275200e+05</td>\n",
       "      <td>227520.000000</td>\n",
       "      <td>227520.00000</td>\n",
       "    </tr>\n",
       "    <tr>\n",
       "      <th>mean</th>\n",
       "      <td>39.000000</td>\n",
       "      <td>143.113924</td>\n",
       "      <td>16.348622</td>\n",
       "      <td>0.500000</td>\n",
       "      <td>1.000000</td>\n",
       "      <td>3.500000</td>\n",
       "      <td>1.529162e+09</td>\n",
       "      <td>2018.000000</td>\n",
       "      <td>6.50000</td>\n",
       "    </tr>\n",
       "    <tr>\n",
       "      <th>std</th>\n",
       "      <td>22.803559</td>\n",
       "      <td>133.218871</td>\n",
       "      <td>13.260935</td>\n",
       "      <td>0.500001</td>\n",
       "      <td>0.816498</td>\n",
       "      <td>2.291293</td>\n",
       "      <td>4.553789e+07</td>\n",
       "      <td>1.414217</td>\n",
       "      <td>3.45206</td>\n",
       "    </tr>\n",
       "    <tr>\n",
       "      <th>min</th>\n",
       "      <td>0.000000</td>\n",
       "      <td>8.000000</td>\n",
       "      <td>0.730000</td>\n",
       "      <td>0.000000</td>\n",
       "      <td>0.000000</td>\n",
       "      <td>0.000000</td>\n",
       "      <td>1.451606e+09</td>\n",
       "      <td>2016.000000</td>\n",
       "      <td>1.00000</td>\n",
       "    </tr>\n",
       "    <tr>\n",
       "      <th>25%</th>\n",
       "      <td>19.000000</td>\n",
       "      <td>41.000000</td>\n",
       "      <td>7.330000</td>\n",
       "      <td>0.000000</td>\n",
       "      <td>0.000000</td>\n",
       "      <td>1.750000</td>\n",
       "      <td>1.490335e+09</td>\n",
       "      <td>2017.000000</td>\n",
       "      <td>3.75000</td>\n",
       "    </tr>\n",
       "    <tr>\n",
       "      <th>50%</th>\n",
       "      <td>39.000000</td>\n",
       "      <td>83.000000</td>\n",
       "      <td>12.600000</td>\n",
       "      <td>0.500000</td>\n",
       "      <td>1.000000</td>\n",
       "      <td>3.500000</td>\n",
       "      <td>1.529107e+09</td>\n",
       "      <td>2018.000000</td>\n",
       "      <td>6.50000</td>\n",
       "    </tr>\n",
       "    <tr>\n",
       "      <th>75%</th>\n",
       "      <td>59.000000</td>\n",
       "      <td>250.000000</td>\n",
       "      <td>20.900000</td>\n",
       "      <td>1.000000</td>\n",
       "      <td>2.000000</td>\n",
       "      <td>5.250000</td>\n",
       "      <td>1.567944e+09</td>\n",
       "      <td>2019.000000</td>\n",
       "      <td>9.25000</td>\n",
       "    </tr>\n",
       "    <tr>\n",
       "      <th>max</th>\n",
       "      <td>78.000000</td>\n",
       "      <td>402.000000</td>\n",
       "      <td>141.330000</td>\n",
       "      <td>1.000000</td>\n",
       "      <td>2.000000</td>\n",
       "      <td>7.000000</td>\n",
       "      <td>1.606781e+09</td>\n",
       "      <td>2020.000000</td>\n",
       "      <td>12.00000</td>\n",
       "    </tr>\n",
       "  </tbody>\n",
       "</table>\n",
       "</div>"
      ],
      "text/plain": [
       "                ürün  ürün besin değeri    ürün fiyatı  ürün üretim yeri  \\\n",
       "count  227520.000000      227520.000000  227520.000000     227520.000000   \n",
       "mean       39.000000         143.113924      16.348622          0.500000   \n",
       "std        22.803559         133.218871      13.260935          0.500001   \n",
       "min         0.000000           8.000000       0.730000          0.000000   \n",
       "25%        19.000000          41.000000       7.330000          0.000000   \n",
       "50%        39.000000          83.000000      12.600000          0.500000   \n",
       "75%        59.000000         250.000000      20.900000          1.000000   \n",
       "max        78.000000         402.000000     141.330000          1.000000   \n",
       "\n",
       "              market          şehir            ts            yıl            ay  \n",
       "count  227520.000000  227520.000000  2.275200e+05  227520.000000  227520.00000  \n",
       "mean        1.000000       3.500000  1.529162e+09    2018.000000       6.50000  \n",
       "std         0.816498       2.291293  4.553789e+07       1.414217       3.45206  \n",
       "min         0.000000       0.000000  1.451606e+09    2016.000000       1.00000  \n",
       "25%         0.000000       1.750000  1.490335e+09    2017.000000       3.75000  \n",
       "50%         1.000000       3.500000  1.529107e+09    2018.000000       6.50000  \n",
       "75%         2.000000       5.250000  1.567944e+09    2019.000000       9.25000  \n",
       "max         2.000000       7.000000  1.606781e+09    2020.000000      12.00000  "
      ]
     },
     "execution_count": 6,
     "metadata": {},
     "output_type": "execute_result"
    }
   ],
   "source": [
    "df.describe()"
   ]
  },
  {
   "cell_type": "code",
   "execution_count": 7,
   "id": "5ea2dca8",
   "metadata": {},
   "outputs": [],
   "source": [
    "from sklearn.model_selection import train_test_split, cross_val_score\n",
    "from sklearn import preprocessing"
   ]
  },
  {
   "cell_type": "code",
   "execution_count": 8,
   "id": "1a91de49",
   "metadata": {},
   "outputs": [],
   "source": [
    "x=df.loc[:,[\"ts\",\"ürün\",\"market\",\"şehir\",\"ürün üretim yeri\"]]\n",
    "y=df[\"ürün fiyatı\"]\n",
    "x_train,x_test,y_train,y_test=train_test_split(x,y,train_size=0.7,random_state=42)"
   ]
  },
  {
   "cell_type": "code",
   "execution_count": 9,
   "id": "b068569d",
   "metadata": {},
   "outputs": [],
   "source": [
    "from sklearn.ensemble import RandomForestRegressor,AdaBoostRegressor,BaggingRegressor,ExtraTreesRegressor,GradientBoostingRegressor,StackingRegressor,VotingRegressor\n",
    "from sklearn.metrics import r2_score"
   ]
  },
  {
   "cell_type": "code",
   "execution_count": 10,
   "id": "9604499c",
   "metadata": {
    "scrolled": false
   },
   "outputs": [
    {
     "data": {
      "text/plain": [
       "RandomForestRegressor(n_estimators=2000)"
      ]
     },
     "execution_count": 10,
     "metadata": {},
     "output_type": "execute_result"
    }
   ],
   "source": [
    "rf = RandomForestRegressor(n_estimators=2000)\n",
    "rf.fit(x_train,y_train)"
   ]
  },
  {
   "cell_type": "markdown",
   "id": "e502d31b",
   "metadata": {},
   "source": [
    "from sklearn.linear_model import RidgeCV\n",
    "from sklearn.svm import LinearSVR\n",
    "estimators = [('lr', RidgeCV()),('svr', LinearSVR(random_state=42))]"
   ]
  },
  {
   "cell_type": "markdown",
   "id": "87a0f21e",
   "metadata": {},
   "source": [
    "ab=AdaBoostRegressor()\n",
    "ab.fit(x_train, y_train)\n",
    "br=BaggingRegressor()\n",
    "br.fit(x_train, y_train)\n",
    "etr=ExtraTreesRegressor()\n",
    "etr.fit(x_train, y_train)\n",
    "gbr=GradientBoostingRegressor()\n",
    "gbr.fit(x_train, y_train)"
   ]
  },
  {
   "cell_type": "markdown",
   "id": "eaa5dac4",
   "metadata": {},
   "source": [
    "sonuc=rf.predict(x_test)\n",
    "sonuc1=ab.predict(x_test)\n",
    "sonuc2=br.predict(x_test)\n",
    "sonuc3=etr.predict(x_test)\n",
    "sonuc4=gbr.predict(x_test)"
   ]
  },
  {
   "cell_type": "code",
   "execution_count": null,
   "id": "e8f2ad3c",
   "metadata": {},
   "outputs": [],
   "source": [
    "from sklearn.metrics import mean_squared_error\n",
    "from sklearn.metrics import mean_absolute_error\n",
    "mae = mean_absolute_error(sonuc, y_test)\n",
    "mse = mean_squared_error(sonuc, y_test)\n",
    "rmse = np.sqrt(mse)\n",
    "print('Mean Absolute Error (MAE): %.2f' % mae)\n",
    "print('Mean Squared Error (MSE): %.2f' % mse)\n",
    "print('Root Mean Squared Error (RMSE): %.2f' % rmse)"
   ]
  },
  {
   "cell_type": "code",
   "execution_count": 11,
   "id": "df276b3f",
   "metadata": {},
   "outputs": [
    {
     "name": "stdout",
     "output_type": "stream",
     "text": [
      "0.9935668396907201\n"
     ]
    }
   ],
   "source": [
    "sonuc=rf.predict(x_test)\n",
    "r2 = r2_score(y_test, sonuc)\n",
    "print(r2)"
   ]
  },
  {
   "cell_type": "code",
   "execution_count": null,
   "id": "378be9c7",
   "metadata": {},
   "outputs": [],
   "source": [
    "from sklearn.neighbors import KNeighborsRegressor\n",
    "neigh = KNeighborsRegressor()\n",
    "abc=neigh.fit(x_train, y_train)"
   ]
  },
  {
   "cell_type": "code",
   "execution_count": null,
   "id": "14d9fb7c",
   "metadata": {
    "scrolled": true
   },
   "outputs": [],
   "source": [
    "import seaborn as sns\n",
    "sns.lineplot(y=listee,x=range(1,100))"
   ]
  },
  {
   "cell_type": "code",
   "execution_count": null,
   "id": "2f3df531",
   "metadata": {},
   "outputs": [],
   "source": [
    "max(listee)        "
   ]
  },
  {
   "cell_type": "code",
   "execution_count": null,
   "id": "6bcf47a1",
   "metadata": {},
   "outputs": [],
   "source": [
    "sonuc2=neigh.predict(x_test)"
   ]
  },
  {
   "cell_type": "code",
   "execution_count": null,
   "id": "f16a744c",
   "metadata": {},
   "outputs": [],
   "source": [
    "\n",
    "from sklearn.metrics import r2_score\n",
    "r2 = r2_score(y_test, sonuc2)\n",
    "print(r2)\n",
    "\n"
   ]
  },
  {
   "cell_type": "code",
   "execution_count": 13,
   "id": "f7d85980",
   "metadata": {},
   "outputs": [
    {
     "name": "stdout",
     "output_type": "stream",
     "text": [
      "<class 'pandas.core.frame.DataFrame'>\n",
      "RangeIndex: 45504 entries, 0 to 45503\n",
      "Data columns (total 8 columns):\n",
      " #   Column             Non-Null Count  Dtype \n",
      "---  ------             --------------  ----- \n",
      " 0   id                 45504 non-null  int64 \n",
      " 1   tarih              45504 non-null  object\n",
      " 2   ürün               45504 non-null  object\n",
      " 3   ürün besin değeri  45504 non-null  int64 \n",
      " 4   ürün kategorisi    45504 non-null  object\n",
      " 5   ürün üretim yeri   45504 non-null  object\n",
      " 6   market             45504 non-null  object\n",
      " 7   şehir              45504 non-null  object\n",
      "dtypes: int64(2), object(6)\n",
      "memory usage: 2.8+ MB\n"
     ]
    }
   ],
   "source": [
    "df_2=pd.read_csv(\"testFeatures.csv\")\n",
    "df_2.info()"
   ]
  },
  {
   "cell_type": "code",
   "execution_count": null,
   "id": "edddcca2",
   "metadata": {},
   "outputs": [],
   "source": [
    "# \n",
    "...\n",
    "0.9933818570842421\n",
    "0.9935555586055208\n",
    "0.9935668396907201\n",
    "...\n",
    "#"
   ]
  },
  {
   "cell_type": "code",
   "execution_count": 15,
   "id": "0e5ff47f",
   "metadata": {},
   "outputs": [],
   "source": [
    "df_2.tarih=df_2.tarih.apply(pd.to_datetime)"
   ]
  },
  {
   "cell_type": "code",
   "execution_count": 16,
   "id": "1ebaeb11",
   "metadata": {},
   "outputs": [],
   "source": [
    "df_2['ts'] = df_2[['tarih']].apply(lambda x: x[0].timestamp(), axis=1)"
   ]
  },
  {
   "cell_type": "code",
   "execution_count": null,
   "id": "d10e51b8",
   "metadata": {},
   "outputs": [],
   "source": [
    "df_2.tarih=df_2.tarih.apply(pd.to_datetime)\n",
    "df_2[\"yıl\"]=df_2.tarih.dt.year\n",
    "df_2[\"ay\"]=df_2.tarih.dt.month\n",
    "df_2=df_2.drop(\"tarih\",axis=1)"
   ]
  },
  {
   "cell_type": "code",
   "execution_count": 17,
   "id": "6dff35ab",
   "metadata": {},
   "outputs": [],
   "source": [
    "df_2[\"ürün\"]=le.fit_transform(df_2[\"ürün\"])\n",
    "\n",
    "df_2[\"ürün üretim yeri\"]=le.fit_transform(df_2[\"ürün üretim yeri\"])\n",
    "df_2[\"market\"]=le.fit_transform(df_2[\"market\"])\n",
    "df_2[\"şehir\"]=le.fit_transform(df_2[\"şehir\"])\n"
   ]
  },
  {
   "cell_type": "code",
   "execution_count": 18,
   "id": "eba61d3c",
   "metadata": {},
   "outputs": [],
   "source": [
    "x_test2=df_2.loc[:,[\"ts\",\"ürün\",\"market\",\"şehir\",\"ürün üretim yeri\"]]"
   ]
  },
  {
   "cell_type": "code",
   "execution_count": 19,
   "id": "f7d9bab4",
   "metadata": {},
   "outputs": [],
   "source": [
    "sonuc=rf.predict(x_test2)"
   ]
  },
  {
   "cell_type": "code",
   "execution_count": 20,
   "id": "c4b36215",
   "metadata": {},
   "outputs": [],
   "source": [
    "sonuc_dp=pd.DataFrame(sonuc)"
   ]
  },
  {
   "cell_type": "code",
   "execution_count": 21,
   "id": "aa62637a",
   "metadata": {},
   "outputs": [],
   "source": [
    "sonuc_dp=sonuc_dp.reset_index()"
   ]
  },
  {
   "cell_type": "code",
   "execution_count": 22,
   "id": "2854e740",
   "metadata": {},
   "outputs": [],
   "source": [
    "sonuc_dp=sonuc_dp.rename(columns={\"index\": \"id\",0:\"ürün fiyatı\"})"
   ]
  },
  {
   "cell_type": "markdown",
   "id": "18870ea8",
   "metadata": {
    "scrolled": true
   },
   "source": [
    "sonuc_dp"
   ]
  },
  {
   "cell_type": "code",
   "execution_count": 23,
   "id": "5e89a9f8",
   "metadata": {},
   "outputs": [],
   "source": [
    "sonuc_dp.to_csv(\"sonuc.csv\",index=False)"
   ]
  },
  {
   "cell_type": "code",
   "execution_count": null,
   "id": "a0e3b1d0",
   "metadata": {},
   "outputs": [],
   "source": []
  }
 ],
 "metadata": {
  "kernelspec": {
   "display_name": "Python 3",
   "language": "python",
   "name": "python3"
  },
  "language_info": {
   "codemirror_mode": {
    "name": "ipython",
    "version": 3
   },
   "file_extension": ".py",
   "mimetype": "text/x-python",
   "name": "python",
   "nbconvert_exporter": "python",
   "pygments_lexer": "ipython3",
   "version": "3.8.8"
  }
 },
 "nbformat": 4,
 "nbformat_minor": 5
}
