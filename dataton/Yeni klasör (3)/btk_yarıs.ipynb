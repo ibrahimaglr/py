{
 "cells": [
  {
   "cell_type": "code",
   "execution_count": 2,
   "id": "74db4d22",
   "metadata": {},
   "outputs": [],
   "source": [
    "import numpy as np\n",
    "import pandas as pd\n",
    "import seaborn as sns\n",
    "import matplotlib.pyplot as plt"
   ]
  },
  {
   "cell_type": "code",
   "execution_count": 3,
   "id": "7fb5593a",
   "metadata": {},
   "outputs": [
    {
     "name": "stdout",
     "output_type": "stream",
     "text": [
      "<class 'pandas.core.frame.DataFrame'>\n",
      "RangeIndex: 227520 entries, 0 to 227519\n",
      "Data columns (total 8 columns):\n",
      " #   Column             Non-Null Count   Dtype  \n",
      "---  ------             --------------   -----  \n",
      " 0   tarih              227520 non-null  object \n",
      " 1   ürün               227520 non-null  object \n",
      " 2   ürün besin değeri  227520 non-null  int64  \n",
      " 3   ürün kategorisi    227520 non-null  object \n",
      " 4   ürün fiyatı        227520 non-null  float64\n",
      " 5   ürün üretim yeri   227520 non-null  object \n",
      " 6   market             227520 non-null  object \n",
      " 7   şehir              227520 non-null  object \n",
      "dtypes: float64(1), int64(1), object(6)\n",
      "memory usage: 13.9+ MB\n"
     ]
    }
   ],
   "source": [
    "df=pd.read_csv(\"train.csv\")\n",
    "df.info()"
   ]
  },
  {
   "cell_type": "code",
   "execution_count": 4,
   "id": "c257c092",
   "metadata": {
    "scrolled": true
   },
   "outputs": [
    {
     "data": {
      "text/html": [
       "<div>\n",
       "<style scoped>\n",
       "    .dataframe tbody tr th:only-of-type {\n",
       "        vertical-align: middle;\n",
       "    }\n",
       "\n",
       "    .dataframe tbody tr th {\n",
       "        vertical-align: top;\n",
       "    }\n",
       "\n",
       "    .dataframe thead th {\n",
       "        text-align: right;\n",
       "    }\n",
       "</style>\n",
       "<table border=\"1\" class=\"dataframe\">\n",
       "  <thead>\n",
       "    <tr style=\"text-align: right;\">\n",
       "      <th></th>\n",
       "      <th>tarih</th>\n",
       "      <th>ürün</th>\n",
       "      <th>ürün besin değeri</th>\n",
       "      <th>ürün kategorisi</th>\n",
       "      <th>ürün fiyatı</th>\n",
       "      <th>ürün üretim yeri</th>\n",
       "      <th>market</th>\n",
       "      <th>şehir</th>\n",
       "    </tr>\n",
       "  </thead>\n",
       "  <tbody>\n",
       "    <tr>\n",
       "      <th>0</th>\n",
       "      <td>2016-01-01</td>\n",
       "      <td>kıyma</td>\n",
       "      <td>120</td>\n",
       "      <td>et</td>\n",
       "      <td>33.41</td>\n",
       "      <td>Yurt içi</td>\n",
       "      <td>M</td>\n",
       "      <td>A</td>\n",
       "    </tr>\n",
       "    <tr>\n",
       "      <th>1</th>\n",
       "      <td>2016-01-01</td>\n",
       "      <td>tavuk</td>\n",
       "      <td>103</td>\n",
       "      <td>et</td>\n",
       "      <td>11.22</td>\n",
       "      <td>Yurt içi</td>\n",
       "      <td>M</td>\n",
       "      <td>A</td>\n",
       "    </tr>\n",
       "    <tr>\n",
       "      <th>2</th>\n",
       "      <td>2016-01-01</td>\n",
       "      <td>hindi</td>\n",
       "      <td>160</td>\n",
       "      <td>et</td>\n",
       "      <td>11.12</td>\n",
       "      <td>Yurt içi</td>\n",
       "      <td>M</td>\n",
       "      <td>A</td>\n",
       "    </tr>\n",
       "    <tr>\n",
       "      <th>3</th>\n",
       "      <td>2016-01-01</td>\n",
       "      <td>Bakla-kuru</td>\n",
       "      <td>354</td>\n",
       "      <td>sebze ve bakliyat</td>\n",
       "      <td>7.02</td>\n",
       "      <td>Yurt içi</td>\n",
       "      <td>M</td>\n",
       "      <td>A</td>\n",
       "    </tr>\n",
       "    <tr>\n",
       "      <th>4</th>\n",
       "      <td>2016-01-01</td>\n",
       "      <td>Bakla-taze</td>\n",
       "      <td>72</td>\n",
       "      <td>sebze ve bakliyat</td>\n",
       "      <td>13.14</td>\n",
       "      <td>Yurt içi</td>\n",
       "      <td>M</td>\n",
       "      <td>A</td>\n",
       "    </tr>\n",
       "  </tbody>\n",
       "</table>\n",
       "</div>"
      ],
      "text/plain": [
       "       tarih        ürün  ürün besin değeri    ürün kategorisi  ürün fiyatı  \\\n",
       "0 2016-01-01       kıyma                120                 et        33.41   \n",
       "1 2016-01-01       tavuk                103                 et        11.22   \n",
       "2 2016-01-01       hindi                160                 et        11.12   \n",
       "3 2016-01-01  Bakla-kuru                354  sebze ve bakliyat         7.02   \n",
       "4 2016-01-01  Bakla-taze                 72  sebze ve bakliyat        13.14   \n",
       "\n",
       "  ürün üretim yeri market şehir  \n",
       "0         Yurt içi      M     A  \n",
       "1         Yurt içi      M     A  \n",
       "2         Yurt içi      M     A  \n",
       "3         Yurt içi      M     A  \n",
       "4         Yurt içi      M     A  "
      ]
     },
     "execution_count": 4,
     "metadata": {},
     "output_type": "execute_result"
    }
   ],
   "source": [
    "df.tarih=df.tarih.apply(pd.to_datetime)\n",
    "df.head()"
   ]
  },
  {
   "cell_type": "code",
   "execution_count": 5,
   "id": "70a62ade",
   "metadata": {},
   "outputs": [],
   "source": [
    "df[\"yıl\"]=df.tarih.dt.year\n",
    "df[\"ay\"]=df.tarih.dt.month\n",
    "df=df.drop(\"tarih\",axis=1)"
   ]
  },
  {
   "cell_type": "code",
   "execution_count": 6,
   "id": "ddad431f",
   "metadata": {},
   "outputs": [
    {
     "data": {
      "text/html": [
       "<div>\n",
       "<style scoped>\n",
       "    .dataframe tbody tr th:only-of-type {\n",
       "        vertical-align: middle;\n",
       "    }\n",
       "\n",
       "    .dataframe tbody tr th {\n",
       "        vertical-align: top;\n",
       "    }\n",
       "\n",
       "    .dataframe thead th {\n",
       "        text-align: right;\n",
       "    }\n",
       "</style>\n",
       "<table border=\"1\" class=\"dataframe\">\n",
       "  <thead>\n",
       "    <tr style=\"text-align: right;\">\n",
       "      <th></th>\n",
       "      <th>ürün besin değeri</th>\n",
       "      <th>ürün fiyatı</th>\n",
       "      <th>yıl</th>\n",
       "      <th>ay</th>\n",
       "    </tr>\n",
       "  </thead>\n",
       "  <tbody>\n",
       "    <tr>\n",
       "      <th>count</th>\n",
       "      <td>227520.000000</td>\n",
       "      <td>227520.000000</td>\n",
       "      <td>227520.000000</td>\n",
       "      <td>227520.00000</td>\n",
       "    </tr>\n",
       "    <tr>\n",
       "      <th>mean</th>\n",
       "      <td>143.113924</td>\n",
       "      <td>16.348622</td>\n",
       "      <td>2018.000000</td>\n",
       "      <td>6.50000</td>\n",
       "    </tr>\n",
       "    <tr>\n",
       "      <th>std</th>\n",
       "      <td>133.218871</td>\n",
       "      <td>13.260935</td>\n",
       "      <td>1.414217</td>\n",
       "      <td>3.45206</td>\n",
       "    </tr>\n",
       "    <tr>\n",
       "      <th>min</th>\n",
       "      <td>8.000000</td>\n",
       "      <td>0.730000</td>\n",
       "      <td>2016.000000</td>\n",
       "      <td>1.00000</td>\n",
       "    </tr>\n",
       "    <tr>\n",
       "      <th>25%</th>\n",
       "      <td>41.000000</td>\n",
       "      <td>7.330000</td>\n",
       "      <td>2017.000000</td>\n",
       "      <td>3.75000</td>\n",
       "    </tr>\n",
       "    <tr>\n",
       "      <th>50%</th>\n",
       "      <td>83.000000</td>\n",
       "      <td>12.600000</td>\n",
       "      <td>2018.000000</td>\n",
       "      <td>6.50000</td>\n",
       "    </tr>\n",
       "    <tr>\n",
       "      <th>75%</th>\n",
       "      <td>250.000000</td>\n",
       "      <td>20.900000</td>\n",
       "      <td>2019.000000</td>\n",
       "      <td>9.25000</td>\n",
       "    </tr>\n",
       "    <tr>\n",
       "      <th>max</th>\n",
       "      <td>402.000000</td>\n",
       "      <td>141.330000</td>\n",
       "      <td>2020.000000</td>\n",
       "      <td>12.00000</td>\n",
       "    </tr>\n",
       "  </tbody>\n",
       "</table>\n",
       "</div>"
      ],
      "text/plain": [
       "       ürün besin değeri    ürün fiyatı            yıl            ay\n",
       "count      227520.000000  227520.000000  227520.000000  227520.00000\n",
       "mean          143.113924      16.348622    2018.000000       6.50000\n",
       "std           133.218871      13.260935       1.414217       3.45206\n",
       "min             8.000000       0.730000    2016.000000       1.00000\n",
       "25%            41.000000       7.330000    2017.000000       3.75000\n",
       "50%            83.000000      12.600000    2018.000000       6.50000\n",
       "75%           250.000000      20.900000    2019.000000       9.25000\n",
       "max           402.000000     141.330000    2020.000000      12.00000"
      ]
     },
     "execution_count": 6,
     "metadata": {},
     "output_type": "execute_result"
    }
   ],
   "source": [
    "df.describe()"
   ]
  },
  {
   "cell_type": "code",
   "execution_count": 7,
   "id": "f8160151",
   "metadata": {},
   "outputs": [],
   "source": [
    "from sklearn.preprocessing import LabelEncoder,OneHotEncoder\n",
    "le=LabelEncoder()\n",
    "df[\"ürün\"]=le.fit_transform(df[\"ürün\"])\n",
    "\n",
    "df[\"ürün üretim yeri\"]=le.fit_transform(df[\"ürün üretim yeri\"])\n",
    "df[\"market\"]=le.fit_transform(df[\"market\"])\n",
    "df[\"şehir\"]=le.fit_transform(df[\"şehir\"])\n",
    "df[\"yıl\"]=le.fit_transform(df[\"yıl\"])"
   ]
  },
  {
   "cell_type": "code",
   "execution_count": 8,
   "id": "333ad49f",
   "metadata": {},
   "outputs": [
    {
     "data": {
      "text/html": [
       "<div>\n",
       "<style scoped>\n",
       "    .dataframe tbody tr th:only-of-type {\n",
       "        vertical-align: middle;\n",
       "    }\n",
       "\n",
       "    .dataframe tbody tr th {\n",
       "        vertical-align: top;\n",
       "    }\n",
       "\n",
       "    .dataframe thead th {\n",
       "        text-align: right;\n",
       "    }\n",
       "</style>\n",
       "<table border=\"1\" class=\"dataframe\">\n",
       "  <thead>\n",
       "    <tr style=\"text-align: right;\">\n",
       "      <th></th>\n",
       "      <th>ürün</th>\n",
       "      <th>ürün besin değeri</th>\n",
       "      <th>ürün kategorisi</th>\n",
       "      <th>ürün fiyatı</th>\n",
       "      <th>ürün üretim yeri</th>\n",
       "      <th>market</th>\n",
       "      <th>şehir</th>\n",
       "      <th>yıl</th>\n",
       "      <th>ay</th>\n",
       "    </tr>\n",
       "  </thead>\n",
       "  <tbody>\n",
       "    <tr>\n",
       "      <th>0</th>\n",
       "      <td>65</td>\n",
       "      <td>120</td>\n",
       "      <td>0</td>\n",
       "      <td>33.41</td>\n",
       "      <td>1</td>\n",
       "      <td>2</td>\n",
       "      <td>0</td>\n",
       "      <td>0</td>\n",
       "      <td>1</td>\n",
       "    </tr>\n",
       "    <tr>\n",
       "      <th>1</th>\n",
       "      <td>70</td>\n",
       "      <td>103</td>\n",
       "      <td>0</td>\n",
       "      <td>11.22</td>\n",
       "      <td>1</td>\n",
       "      <td>2</td>\n",
       "      <td>0</td>\n",
       "      <td>0</td>\n",
       "      <td>1</td>\n",
       "    </tr>\n",
       "    <tr>\n",
       "      <th>2</th>\n",
       "      <td>61</td>\n",
       "      <td>160</td>\n",
       "      <td>0</td>\n",
       "      <td>11.12</td>\n",
       "      <td>1</td>\n",
       "      <td>2</td>\n",
       "      <td>0</td>\n",
       "      <td>0</td>\n",
       "      <td>1</td>\n",
       "    </tr>\n",
       "    <tr>\n",
       "      <th>3</th>\n",
       "      <td>1</td>\n",
       "      <td>354</td>\n",
       "      <td>3</td>\n",
       "      <td>7.02</td>\n",
       "      <td>1</td>\n",
       "      <td>2</td>\n",
       "      <td>0</td>\n",
       "      <td>0</td>\n",
       "      <td>1</td>\n",
       "    </tr>\n",
       "    <tr>\n",
       "      <th>4</th>\n",
       "      <td>2</td>\n",
       "      <td>72</td>\n",
       "      <td>3</td>\n",
       "      <td>13.14</td>\n",
       "      <td>1</td>\n",
       "      <td>2</td>\n",
       "      <td>0</td>\n",
       "      <td>0</td>\n",
       "      <td>1</td>\n",
       "    </tr>\n",
       "    <tr>\n",
       "      <th>5</th>\n",
       "      <td>3</td>\n",
       "      <td>42</td>\n",
       "      <td>3</td>\n",
       "      <td>5.05</td>\n",
       "      <td>1</td>\n",
       "      <td>2</td>\n",
       "      <td>0</td>\n",
       "      <td>0</td>\n",
       "      <td>1</td>\n",
       "    </tr>\n",
       "    <tr>\n",
       "      <th>6</th>\n",
       "      <td>4</td>\n",
       "      <td>346</td>\n",
       "      <td>3</td>\n",
       "      <td>5.97</td>\n",
       "      <td>1</td>\n",
       "      <td>2</td>\n",
       "      <td>0</td>\n",
       "      <td>0</td>\n",
       "      <td>1</td>\n",
       "    </tr>\n",
       "    <tr>\n",
       "      <th>7</th>\n",
       "      <td>5</td>\n",
       "      <td>47</td>\n",
       "      <td>3</td>\n",
       "      <td>12.19</td>\n",
       "      <td>1</td>\n",
       "      <td>2</td>\n",
       "      <td>0</td>\n",
       "      <td>0</td>\n",
       "      <td>1</td>\n",
       "    </tr>\n",
       "    <tr>\n",
       "      <th>8</th>\n",
       "      <td>6</td>\n",
       "      <td>25</td>\n",
       "      <td>3</td>\n",
       "      <td>12.15</td>\n",
       "      <td>1</td>\n",
       "      <td>2</td>\n",
       "      <td>0</td>\n",
       "      <td>0</td>\n",
       "      <td>1</td>\n",
       "    </tr>\n",
       "    <tr>\n",
       "      <th>9</th>\n",
       "      <td>7</td>\n",
       "      <td>47</td>\n",
       "      <td>3</td>\n",
       "      <td>23.53</td>\n",
       "      <td>1</td>\n",
       "      <td>2</td>\n",
       "      <td>0</td>\n",
       "      <td>0</td>\n",
       "      <td>1</td>\n",
       "    </tr>\n",
       "    <tr>\n",
       "      <th>10</th>\n",
       "      <td>10</td>\n",
       "      <td>25</td>\n",
       "      <td>3</td>\n",
       "      <td>4.00</td>\n",
       "      <td>1</td>\n",
       "      <td>2</td>\n",
       "      <td>0</td>\n",
       "      <td>0</td>\n",
       "      <td>1</td>\n",
       "    </tr>\n",
       "    <tr>\n",
       "      <th>11</th>\n",
       "      <td>12</td>\n",
       "      <td>63</td>\n",
       "      <td>3</td>\n",
       "      <td>11.20</td>\n",
       "      <td>1</td>\n",
       "      <td>2</td>\n",
       "      <td>0</td>\n",
       "      <td>0</td>\n",
       "      <td>1</td>\n",
       "    </tr>\n",
       "    <tr>\n",
       "      <th>12</th>\n",
       "      <td>15</td>\n",
       "      <td>333</td>\n",
       "      <td>3</td>\n",
       "      <td>9.17</td>\n",
       "      <td>1</td>\n",
       "      <td>2</td>\n",
       "      <td>0</td>\n",
       "      <td>0</td>\n",
       "      <td>1</td>\n",
       "    </tr>\n",
       "    <tr>\n",
       "      <th>13</th>\n",
       "      <td>16</td>\n",
       "      <td>35</td>\n",
       "      <td>3</td>\n",
       "      <td>9.12</td>\n",
       "      <td>1</td>\n",
       "      <td>2</td>\n",
       "      <td>0</td>\n",
       "      <td>0</td>\n",
       "      <td>1</td>\n",
       "    </tr>\n",
       "    <tr>\n",
       "      <th>14</th>\n",
       "      <td>17</td>\n",
       "      <td>42</td>\n",
       "      <td>3</td>\n",
       "      <td>7.91</td>\n",
       "      <td>1</td>\n",
       "      <td>2</td>\n",
       "      <td>0</td>\n",
       "      <td>0</td>\n",
       "      <td>1</td>\n",
       "    </tr>\n",
       "    <tr>\n",
       "      <th>15</th>\n",
       "      <td>50</td>\n",
       "      <td>8</td>\n",
       "      <td>3</td>\n",
       "      <td>4.03</td>\n",
       "      <td>1</td>\n",
       "      <td>2</td>\n",
       "      <td>0</td>\n",
       "      <td>0</td>\n",
       "      <td>1</td>\n",
       "    </tr>\n",
       "    <tr>\n",
       "      <th>16</th>\n",
       "      <td>18</td>\n",
       "      <td>25</td>\n",
       "      <td>3</td>\n",
       "      <td>12.21</td>\n",
       "      <td>1</td>\n",
       "      <td>2</td>\n",
       "      <td>0</td>\n",
       "      <td>0</td>\n",
       "      <td>1</td>\n",
       "    </tr>\n",
       "    <tr>\n",
       "      <th>17</th>\n",
       "      <td>19</td>\n",
       "      <td>19</td>\n",
       "      <td>3</td>\n",
       "      <td>8.03</td>\n",
       "      <td>1</td>\n",
       "      <td>2</td>\n",
       "      <td>0</td>\n",
       "      <td>0</td>\n",
       "      <td>1</td>\n",
       "    </tr>\n",
       "    <tr>\n",
       "      <th>18</th>\n",
       "      <td>21</td>\n",
       "      <td>25</td>\n",
       "      <td>3</td>\n",
       "      <td>8.03</td>\n",
       "      <td>1</td>\n",
       "      <td>2</td>\n",
       "      <td>0</td>\n",
       "      <td>0</td>\n",
       "      <td>1</td>\n",
       "    </tr>\n",
       "    <tr>\n",
       "      <th>19</th>\n",
       "      <td>26</td>\n",
       "      <td>38</td>\n",
       "      <td>3</td>\n",
       "      <td>6.11</td>\n",
       "      <td>1</td>\n",
       "      <td>2</td>\n",
       "      <td>0</td>\n",
       "      <td>0</td>\n",
       "      <td>1</td>\n",
       "    </tr>\n",
       "  </tbody>\n",
       "</table>\n",
       "</div>"
      ],
      "text/plain": [
       "    ürün  ürün besin değeri  ürün kategorisi  ürün fiyatı  ürün üretim yeri  \\\n",
       "0     65                120                0        33.41                 1   \n",
       "1     70                103                0        11.22                 1   \n",
       "2     61                160                0        11.12                 1   \n",
       "3      1                354                3         7.02                 1   \n",
       "4      2                 72                3        13.14                 1   \n",
       "5      3                 42                3         5.05                 1   \n",
       "6      4                346                3         5.97                 1   \n",
       "7      5                 47                3        12.19                 1   \n",
       "8      6                 25                3        12.15                 1   \n",
       "9      7                 47                3        23.53                 1   \n",
       "10    10                 25                3         4.00                 1   \n",
       "11    12                 63                3        11.20                 1   \n",
       "12    15                333                3         9.17                 1   \n",
       "13    16                 35                3         9.12                 1   \n",
       "14    17                 42                3         7.91                 1   \n",
       "15    50                  8                3         4.03                 1   \n",
       "16    18                 25                3        12.21                 1   \n",
       "17    19                 19                3         8.03                 1   \n",
       "18    21                 25                3         8.03                 1   \n",
       "19    26                 38                3         6.11                 1   \n",
       "\n",
       "    market  şehir  yıl  ay  \n",
       "0        2      0    0   1  \n",
       "1        2      0    0   1  \n",
       "2        2      0    0   1  \n",
       "3        2      0    0   1  \n",
       "4        2      0    0   1  \n",
       "5        2      0    0   1  \n",
       "6        2      0    0   1  \n",
       "7        2      0    0   1  \n",
       "8        2      0    0   1  \n",
       "9        2      0    0   1  \n",
       "10       2      0    0   1  \n",
       "11       2      0    0   1  \n",
       "12       2      0    0   1  \n",
       "13       2      0    0   1  \n",
       "14       2      0    0   1  \n",
       "15       2      0    0   1  \n",
       "16       2      0    0   1  \n",
       "17       2      0    0   1  \n",
       "18       2      0    0   1  \n",
       "19       2      0    0   1  "
      ]
     },
     "execution_count": 8,
     "metadata": {},
     "output_type": "execute_result"
    }
   ],
   "source": [
    "df.head(20)"
   ]
  },
  {
   "cell_type": "code",
   "execution_count": 9,
   "id": "fbabe0bb",
   "metadata": {},
   "outputs": [
    {
     "data": {
      "text/html": [
       "<div>\n",
       "<style scoped>\n",
       "    .dataframe tbody tr th:only-of-type {\n",
       "        vertical-align: middle;\n",
       "    }\n",
       "\n",
       "    .dataframe tbody tr th {\n",
       "        vertical-align: top;\n",
       "    }\n",
       "\n",
       "    .dataframe thead th {\n",
       "        text-align: right;\n",
       "    }\n",
       "</style>\n",
       "<table border=\"1\" class=\"dataframe\">\n",
       "  <thead>\n",
       "    <tr style=\"text-align: right;\">\n",
       "      <th></th>\n",
       "      <th>ürün</th>\n",
       "      <th>ürün besin değeri</th>\n",
       "      <th>ürün kategorisi</th>\n",
       "      <th>ürün fiyatı</th>\n",
       "      <th>ürün üretim yeri</th>\n",
       "      <th>market</th>\n",
       "      <th>şehir</th>\n",
       "      <th>yıl</th>\n",
       "      <th>ay</th>\n",
       "    </tr>\n",
       "  </thead>\n",
       "  <tbody>\n",
       "    <tr>\n",
       "      <th>count</th>\n",
       "      <td>227520.000000</td>\n",
       "      <td>227520.000000</td>\n",
       "      <td>227520.000000</td>\n",
       "      <td>227520.000000</td>\n",
       "      <td>227520.000000</td>\n",
       "      <td>227520.000000</td>\n",
       "      <td>227520.000000</td>\n",
       "      <td>227520.000000</td>\n",
       "      <td>227520.00000</td>\n",
       "    </tr>\n",
       "    <tr>\n",
       "      <th>mean</th>\n",
       "      <td>39.000000</td>\n",
       "      <td>143.113924</td>\n",
       "      <td>2.987342</td>\n",
       "      <td>16.348622</td>\n",
       "      <td>0.500000</td>\n",
       "      <td>1.000000</td>\n",
       "      <td>3.500000</td>\n",
       "      <td>2.000000</td>\n",
       "      <td>6.50000</td>\n",
       "    </tr>\n",
       "    <tr>\n",
       "      <th>std</th>\n",
       "      <td>22.803559</td>\n",
       "      <td>133.218871</td>\n",
       "      <td>1.257826</td>\n",
       "      <td>13.260935</td>\n",
       "      <td>0.500001</td>\n",
       "      <td>0.816498</td>\n",
       "      <td>2.291293</td>\n",
       "      <td>1.414217</td>\n",
       "      <td>3.45206</td>\n",
       "    </tr>\n",
       "    <tr>\n",
       "      <th>min</th>\n",
       "      <td>0.000000</td>\n",
       "      <td>8.000000</td>\n",
       "      <td>0.000000</td>\n",
       "      <td>0.730000</td>\n",
       "      <td>0.000000</td>\n",
       "      <td>0.000000</td>\n",
       "      <td>0.000000</td>\n",
       "      <td>0.000000</td>\n",
       "      <td>1.00000</td>\n",
       "    </tr>\n",
       "    <tr>\n",
       "      <th>25%</th>\n",
       "      <td>19.000000</td>\n",
       "      <td>41.000000</td>\n",
       "      <td>2.000000</td>\n",
       "      <td>7.330000</td>\n",
       "      <td>0.000000</td>\n",
       "      <td>0.000000</td>\n",
       "      <td>1.750000</td>\n",
       "      <td>1.000000</td>\n",
       "      <td>3.75000</td>\n",
       "    </tr>\n",
       "    <tr>\n",
       "      <th>50%</th>\n",
       "      <td>39.000000</td>\n",
       "      <td>83.000000</td>\n",
       "      <td>3.000000</td>\n",
       "      <td>12.600000</td>\n",
       "      <td>0.500000</td>\n",
       "      <td>1.000000</td>\n",
       "      <td>3.500000</td>\n",
       "      <td>2.000000</td>\n",
       "      <td>6.50000</td>\n",
       "    </tr>\n",
       "    <tr>\n",
       "      <th>75%</th>\n",
       "      <td>59.000000</td>\n",
       "      <td>250.000000</td>\n",
       "      <td>4.000000</td>\n",
       "      <td>20.900000</td>\n",
       "      <td>1.000000</td>\n",
       "      <td>2.000000</td>\n",
       "      <td>5.250000</td>\n",
       "      <td>3.000000</td>\n",
       "      <td>9.25000</td>\n",
       "    </tr>\n",
       "    <tr>\n",
       "      <th>max</th>\n",
       "      <td>78.000000</td>\n",
       "      <td>402.000000</td>\n",
       "      <td>5.000000</td>\n",
       "      <td>141.330000</td>\n",
       "      <td>1.000000</td>\n",
       "      <td>2.000000</td>\n",
       "      <td>7.000000</td>\n",
       "      <td>4.000000</td>\n",
       "      <td>12.00000</td>\n",
       "    </tr>\n",
       "  </tbody>\n",
       "</table>\n",
       "</div>"
      ],
      "text/plain": [
       "                ürün  ürün besin değeri  ürün kategorisi    ürün fiyatı  \\\n",
       "count  227520.000000      227520.000000    227520.000000  227520.000000   \n",
       "mean       39.000000         143.113924         2.987342      16.348622   \n",
       "std        22.803559         133.218871         1.257826      13.260935   \n",
       "min         0.000000           8.000000         0.000000       0.730000   \n",
       "25%        19.000000          41.000000         2.000000       7.330000   \n",
       "50%        39.000000          83.000000         3.000000      12.600000   \n",
       "75%        59.000000         250.000000         4.000000      20.900000   \n",
       "max        78.000000         402.000000         5.000000     141.330000   \n",
       "\n",
       "       ürün üretim yeri         market          şehir            yıl  \\\n",
       "count     227520.000000  227520.000000  227520.000000  227520.000000   \n",
       "mean           0.500000       1.000000       3.500000       2.000000   \n",
       "std            0.500001       0.816498       2.291293       1.414217   \n",
       "min            0.000000       0.000000       0.000000       0.000000   \n",
       "25%            0.000000       0.000000       1.750000       1.000000   \n",
       "50%            0.500000       1.000000       3.500000       2.000000   \n",
       "75%            1.000000       2.000000       5.250000       3.000000   \n",
       "max            1.000000       2.000000       7.000000       4.000000   \n",
       "\n",
       "                 ay  \n",
       "count  227520.00000  \n",
       "mean        6.50000  \n",
       "std         3.45206  \n",
       "min         1.00000  \n",
       "25%         3.75000  \n",
       "50%         6.50000  \n",
       "75%         9.25000  \n",
       "max        12.00000  "
      ]
     },
     "execution_count": 9,
     "metadata": {},
     "output_type": "execute_result"
    }
   ],
   "source": [
    "df.describe()"
   ]
  },
  {
   "cell_type": "code",
   "execution_count": 10,
   "id": "d0ed03d9",
   "metadata": {},
   "outputs": [
    {
     "data": {
      "text/plain": [
       "<AxesSubplot:xlabel='ay', ylabel='ürün fiyatı'>"
      ]
     },
     "execution_count": 10,
     "metadata": {},
     "output_type": "execute_result"
    },
    {
     "data": {
      "image/png": "[encoded data removed]",
      "text/plain": [
       "<Figure size 432x288 with 1 Axes>"
      ]
     },
     "metadata": {
      "needs_background": "light"
     },
     "output_type": "display_data"
    }
   ],
   "source": [
    "sns.lineplot(x=df.loc[:,\"ay\"],y=df[\"ürün fiyatı\"])"
   ]
  },
  {
   "cell_type": "code",
   "execution_count": 11,
   "id": "d5122a2c",
   "metadata": {},
   "outputs": [
    {
     "data": {
      "text/plain": [
       "ürün                 0.180560\n",
       "ürün besin değeri    0.017858\n",
       "ürün kategorisi     -0.189127\n",
       "ürün fiyatı          1.000000\n",
       "ürün üretim yeri     0.001386\n",
       "market              -0.002102\n",
       "şehir               -0.001854\n",
       "yıl                  0.436121\n",
       "ay                   0.091105\n",
       "Name: ürün fiyatı, dtype: float64"
      ]
     },
     "execution_count": 11,
     "metadata": {},
     "output_type": "execute_result"
    }
   ],
   "source": [
    "df_cor=df.corr()\n",
    "df_cov=df.cov()\n",
    "df_cor[\"ürün fiyatı\"]"
   ]
  },
  {
   "cell_type": "code",
   "execution_count": 12,
   "id": "af8a6eb1",
   "metadata": {},
   "outputs": [
    {
     "data": {
      "text/plain": [
       "ürün                  54.600823\n",
       "ürün besin değeri     31.548434\n",
       "ürün kategorisi       -3.154620\n",
       "ürün fiyatı          175.852410\n",
       "ürün üretim yeri       0.009191\n",
       "market                -0.022759\n",
       "şehir                 -0.056338\n",
       "yıl                    8.178933\n",
       "ay                     4.170549\n",
       "Name: ürün fiyatı, dtype: float64"
      ]
     },
     "execution_count": 12,
     "metadata": {},
     "output_type": "execute_result"
    }
   ],
   "source": [
    "df_cov[\"ürün fiyatı\"]"
   ]
  },
  {
   "cell_type": "code",
   "execution_count": 13,
   "id": "bf6587f9",
   "metadata": {},
   "outputs": [
    {
     "name": "stderr",
     "output_type": "stream",
     "text": [
      "C:\\Users\\PC\\anaconda3\\lib\\site-packages\\seaborn\\distributions.py:2557: FutureWarning: `distplot` is a deprecated function and will be removed in a future version. Please adapt your code to use either `displot` (a figure-level function with similar flexibility) or `histplot` (an axes-level function for histograms).\n",
      "  warnings.warn(msg, FutureWarning)\n"
     ]
    },
    {
     "data": {
      "text/plain": [
       "<AxesSubplot:xlabel='ürün fiyatı', ylabel='Density'>"
      ]
     },
     "execution_count": 13,
     "metadata": {},
     "output_type": "execute_result"
    },
    {
     "data": {
      "image/png": "[encoded data removed]",
      "text/plain": [
       "<Figure size 432x288 with 1 Axes>"
      ]
     },
     "metadata": {
      "needs_background": "light"
     },
     "output_type": "display_data"
    }
   ],
   "source": [
    "sns.distplot(df[\"ürün fiyatı\"])"
   ]
  },
  {
   "cell_type": "code",
   "execution_count": 14,
   "id": "3d843844",
   "metadata": {},
   "outputs": [
    {
     "data": {
      "text/plain": [
       "4550.400000000001"
      ]
     },
     "execution_count": 14,
     "metadata": {},
     "output_type": "execute_result"
    }
   ],
   "source": [
    "len(df)*0.02"
   ]
  },
  {
   "cell_type": "code",
   "execution_count": 15,
   "id": "5a0cccd5",
   "metadata": {},
   "outputs": [],
   "source": [
    "df_1=df.sort_values(\"ürün fiyatı\",ascending=False).iloc[4550:]"
   ]
  },
  {
   "cell_type": "code",
   "execution_count": 16,
   "id": "9857efdc",
   "metadata": {},
   "outputs": [
    {
     "name": "stderr",
     "output_type": "stream",
     "text": [
      "C:\\Users\\PC\\anaconda3\\lib\\site-packages\\seaborn\\distributions.py:2557: FutureWarning: `distplot` is a deprecated function and will be removed in a future version. Please adapt your code to use either `displot` (a figure-level function with similar flexibility) or `histplot` (an axes-level function for histograms).\n",
      "  warnings.warn(msg, FutureWarning)\n"
     ]
    },
    {
     "data": {
      "text/plain": [
       "<AxesSubplot:xlabel='ürün fiyatı', ylabel='Density'>"
      ]
     },
     "execution_count": 16,
     "metadata": {},
     "output_type": "execute_result"
    },
    {
     "data": {
      "image/png": "[encoded data removed]",
      "text/plain": [
       "<Figure size 432x288 with 1 Axes>"
      ]
     },
     "metadata": {
      "needs_background": "light"
     },
     "output_type": "display_data"
    }
   ],
   "source": [
    "sns.distplot(df_1[\"ürün fiyatı\"])"
   ]
  },
  {
   "cell_type": "code",
   "execution_count": 17,
   "id": "517cb9ab",
   "metadata": {},
   "outputs": [],
   "source": [
    "from sklearn.model_selection import train_test_split, cross_val_score\n",
    "from sklearn import preprocessing"
   ]
  },
  {
   "cell_type": "code",
   "execution_count": 18,
   "id": "12dbb762",
   "metadata": {},
   "outputs": [],
   "source": [
    "min_max_scaler = preprocessing.MinMaxScaler()"
   ]
  },
  {
   "cell_type": "code",
   "execution_count": 19,
   "id": "48afe72d",
   "metadata": {},
   "outputs": [],
   "source": [
    "x=df.loc[:,[\"yıl\",\"ay\",\"ürün\",\"market\",\"şehir\",\"ürün üretim yeri\"]]\n",
    "y=df[\"ürün fiyatı\"]\n",
    "x_train,x_test,y_train,y_test=train_test_split(x,y,train_size=0.7,random_state=42)"
   ]
  },
  {
   "cell_type": "code",
   "execution_count": 29,
   "id": "764c47f3",
   "metadata": {},
   "outputs": [
    {
     "ename": "ModuleNotFoundError",
     "evalue": "No module named 'keras'",
     "output_type": "error",
     "traceback": [
      "\u001b[1;31m---------------------------------------------------------------------------\u001b[0m",
      "\u001b[1;31mModuleNotFoundError\u001b[0m                       Traceback (most recent call last)",
      "\u001b[1;32m<ipython-input-29-b425e9f205dd>\u001b[0m in \u001b[0;36m<module>\u001b[1;34m\u001b[0m\n\u001b[1;32m----> 1\u001b[1;33m \u001b[1;32mfrom\u001b[0m \u001b[0mkeras\u001b[0m\u001b[1;33m.\u001b[0m\u001b[0mmodels\u001b[0m \u001b[1;32mimport\u001b[0m \u001b[0mSequential\u001b[0m\u001b[1;33m\u001b[0m\u001b[1;33m\u001b[0m\u001b[0m\n\u001b[0m\u001b[0;32m      2\u001b[0m \u001b[1;32mfrom\u001b[0m \u001b[0mkeras\u001b[0m\u001b[1;33m.\u001b[0m\u001b[0mlayers\u001b[0m \u001b[1;32mimport\u001b[0m \u001b[0mDense\u001b[0m\u001b[1;33m,\u001b[0m\u001b[0mDropout\u001b[0m\u001b[1;33m,\u001b[0m\u001b[0mBatchNormalization\u001b[0m\u001b[1;33m,\u001b[0m\u001b[0mActivation\u001b[0m\u001b[1;33m,\u001b[0m\u001b[0mFlatten\u001b[0m\u001b[1;33m\u001b[0m\u001b[1;33m\u001b[0m\u001b[0m\n",
      "\u001b[1;31mModuleNotFoundError\u001b[0m: No module named 'keras'"
     ]
    }
   ],
   "source": [
    "from keras.models import Sequential\n",
    "from keras.layers import Dense,Dropout,BatchNormalization,Activation,Flatten"
   ]
  },
  {
   "cell_type": "code",
   "execution_count": null,
   "id": "b6ab32fc",
   "metadata": {},
   "outputs": [],
   "source": [
    "model = Sequential()\n",
    "model.add(Dense(5,activation=\"relu\"))\n",
    "model.add(Dense(5,activation=\"relu\"))\n",
    "model.add(Dense(4,activation=\"relu\"))\n",
    "model.add(Dense(3,activation=\"relu\"))\n",
    "model.add(Dense(1))\n",
    "model.compile(optimizer='adam',loss=\"mse\", metrics=['accuracy'])"
   ]
  },
  {
   "cell_type": "code",
   "execution_count": null,
   "id": "dcb76310",
   "metadata": {},
   "outputs": [],
   "source": [
    "history =model.fit(x_train, \n",
    "                y_train,\n",
    "                validation_data=(x_test, y_test),\n",
    "                epochs=300)"
   ]
  },
  {
   "cell_type": "code",
   "execution_count": null,
   "id": "18f1d441",
   "metadata": {},
   "outputs": [],
   "source": [
    "sonuc=model.predict(x_test)"
   ]
  },
  {
   "cell_type": "code",
   "execution_count": null,
   "id": "320aad32",
   "metadata": {},
   "outputs": [],
   "source": [
    "sonuc_df=pd.DataFrame(sonuc)"
   ]
  },
  {
   "cell_type": "code",
   "execution_count": null,
   "id": "da3eb8ae",
   "metadata": {},
   "outputs": [],
   "source": [
    "writer = pd.ExcelWriter('pandas_3.xlsx', engine='xlsxwriter')\n",
    "\n",
    "# Convert the dataframe to an XlsxWriter Excel object.\n",
    "sonuc.to_excel(writer, sheet_name='Sheet1')\n",
    "\n",
    "# Close the Pandas Excel writer and output the Excel file.\n",
    "writer.save()"
   ]
  },
  {
   "cell_type": "code",
   "execution_count": null,
   "id": "3c94ff88",
   "metadata": {},
   "outputs": [],
   "source": [
    "sonuc"
   ]
  },
  {
   "cell_type": "code",
   "execution_count": null,
   "id": "eabcff1a",
   "metadata": {},
   "outputs": [],
   "source": [
    "y_t2=pd.DataFrame(y_test)"
   ]
  },
  {
   "cell_type": "code",
   "execution_count": null,
   "id": "5a172c07",
   "metadata": {},
   "outputs": [],
   "source": [
    "sonuc4=sonuc-y_test.values"
   ]
  },
  {
   "cell_type": "code",
   "execution_count": null,
   "id": "ae2c41d5",
   "metadata": {},
   "outputs": [],
   "source": [
    "sonuc4.min()"
   ]
  },
  {
   "cell_type": "code",
   "execution_count": null,
   "id": "ce6f38c1",
   "metadata": {},
   "outputs": [],
   "source": [
    "sonuc4.max()"
   ]
  },
  {
   "cell_type": "code",
   "execution_count": 21,
   "id": "f7e73bbf",
   "metadata": {},
   "outputs": [
    {
     "ename": "NameError",
     "evalue": "name 'sonuc4' is not defined",
     "output_type": "error",
     "traceback": [
      "\u001b[1;31m---------------------------------------------------------------------------\u001b[0m",
      "\u001b[1;31mNameError\u001b[0m                                 Traceback (most recent call last)",
      "\u001b[1;32m<ipython-input-21-4a5c34996728>\u001b[0m in \u001b[0;36m<module>\u001b[1;34m\u001b[0m\n\u001b[1;32m----> 1\u001b[1;33m \u001b[0msonuc4\u001b[0m\u001b[1;33m.\u001b[0m\u001b[0mmean\u001b[0m\u001b[1;33m(\u001b[0m\u001b[1;33m)\u001b[0m\u001b[1;33m\u001b[0m\u001b[1;33m\u001b[0m\u001b[0m\n\u001b[0m",
      "\u001b[1;31mNameError\u001b[0m: name 'sonuc4' is not defined"
     ]
    }
   ],
   "source": [
    "sonuc4.mean()"
   ]
  },
  {
   "cell_type": "code",
   "execution_count": 22,
   "id": "f61bfe30",
   "metadata": {},
   "outputs": [],
   "source": [
    "from sklearn.linear_model import LinearRegression\n",
    "lin_reg = LinearRegression()"
   ]
  },
  {
   "cell_type": "code",
   "execution_count": 23,
   "id": "89173c3d",
   "metadata": {},
   "outputs": [],
   "source": [
    "hıst=lin_reg.fit(x_train,y_train)\n",
    "sonuc2=hıst.predict(x_test)"
   ]
  },
  {
   "cell_type": "code",
   "execution_count": 24,
   "id": "06c4979e",
   "metadata": {},
   "outputs": [
    {
     "data": {
      "text/plain": [
       "208282     7.770335\n",
       "199599   -20.224131\n",
       "185287    13.843927\n",
       "35909     -5.335881\n",
       "175393    -6.839211\n",
       "            ...    \n",
       "39289      0.455234\n",
       "147268    -0.968877\n",
       "62732      3.952017\n",
       "17481     -8.752814\n",
       "208737     0.829933\n",
       "Name: ürün fiyatı, Length: 68256, dtype: float64"
      ]
     },
     "execution_count": 24,
     "metadata": {},
     "output_type": "execute_result"
    }
   ],
   "source": [
    "asd=sonuc2-y_test\n",
    "asd"
   ]
  },
  {
   "cell_type": "code",
   "execution_count": 25,
   "id": "d7307c51",
   "metadata": {},
   "outputs": [
    {
     "data": {
      "text/plain": [
       "count    68256.000000\n",
       "mean         0.081725\n",
       "std         11.233303\n",
       "min        -88.929298\n",
       "25%         -5.670150\n",
       "50%          2.233786\n",
       "75%          7.551283\n",
       "max         19.673122\n",
       "Name: ürün fiyatı, dtype: float64"
      ]
     },
     "execution_count": 25,
     "metadata": {},
     "output_type": "execute_result"
    }
   ],
   "source": [
    "asd.describe()"
   ]
  },
  {
   "cell_type": "code",
   "execution_count": 26,
   "id": "fa2a9ea0",
   "metadata": {
    "scrolled": true
   },
   "outputs": [
    {
     "ename": "NameError",
     "evalue": "name 'sonuc' is not defined",
     "output_type": "error",
     "traceback": [
      "\u001b[1;31m---------------------------------------------------------------------------\u001b[0m",
      "\u001b[1;31mNameError\u001b[0m                                 Traceback (most recent call last)",
      "\u001b[1;32m<ipython-input-26-7c9144940998>\u001b[0m in \u001b[0;36m<module>\u001b[1;34m\u001b[0m\n\u001b[1;32m----> 1\u001b[1;33m \u001b[0mplt\u001b[0m\u001b[1;33m.\u001b[0m\u001b[0mscatter\u001b[0m\u001b[1;33m(\u001b[0m\u001b[0msonuc\u001b[0m\u001b[1;33m,\u001b[0m\u001b[0my_test\u001b[0m\u001b[1;33m,\u001b[0m\u001b[0mcolor\u001b[0m\u001b[1;33m=\u001b[0m\u001b[1;34m'red'\u001b[0m\u001b[1;33m)\u001b[0m\u001b[1;33m\u001b[0m\u001b[1;33m\u001b[0m\u001b[0m\n\u001b[0m\u001b[0;32m      2\u001b[0m \u001b[0mplt\u001b[0m\u001b[1;33m.\u001b[0m\u001b[0mshow\u001b[0m\u001b[1;33m(\u001b[0m\u001b[1;33m)\u001b[0m\u001b[1;33m\u001b[0m\u001b[1;33m\u001b[0m\u001b[0m\n",
      "\u001b[1;31mNameError\u001b[0m: name 'sonuc' is not defined"
     ]
    }
   ],
   "source": [
    "plt.scatter(sonuc,y_test,color='red')\n",
    "plt.show()"
   ]
  },
  {
   "cell_type": "code",
   "execution_count": 27,
   "id": "30b0be41",
   "metadata": {},
   "outputs": [
    {
     "ename": "NameError",
     "evalue": "name 'history' is not defined",
     "output_type": "error",
     "traceback": [
      "\u001b[1;31m---------------------------------------------------------------------------\u001b[0m",
      "\u001b[1;31mNameError\u001b[0m                                 Traceback (most recent call last)",
      "\u001b[1;32m<ipython-input-27-498b6c3176db>\u001b[0m in \u001b[0;36m<module>\u001b[1;34m\u001b[0m\n\u001b[0;32m      3\u001b[0m \u001b[0mplt\u001b[0m\u001b[1;33m.\u001b[0m\u001b[0mfigure\u001b[0m\u001b[1;33m(\u001b[0m\u001b[0mfigsize\u001b[0m\u001b[1;33m=\u001b[0m\u001b[1;33m(\u001b[0m\u001b[1;36m14\u001b[0m\u001b[1;33m,\u001b[0m\u001b[1;36m3\u001b[0m\u001b[1;33m)\u001b[0m\u001b[1;33m)\u001b[0m\u001b[1;33m\u001b[0m\u001b[1;33m\u001b[0m\u001b[0m\n\u001b[0;32m      4\u001b[0m \u001b[0mplt\u001b[0m\u001b[1;33m.\u001b[0m\u001b[0msubplot\u001b[0m\u001b[1;33m(\u001b[0m\u001b[1;36m1\u001b[0m\u001b[1;33m,\u001b[0m \u001b[1;36m2\u001b[0m\u001b[1;33m,\u001b[0m \u001b[1;36m1\u001b[0m\u001b[1;33m)\u001b[0m\u001b[1;33m\u001b[0m\u001b[1;33m\u001b[0m\u001b[0m\n\u001b[1;32m----> 5\u001b[1;33m \u001b[0mplt\u001b[0m\u001b[1;33m.\u001b[0m\u001b[0mplot\u001b[0m\u001b[1;33m(\u001b[0m\u001b[0mhistory\u001b[0m\u001b[1;33m.\u001b[0m\u001b[0mhistory\u001b[0m\u001b[1;33m[\u001b[0m\u001b[1;34m'accuracy'\u001b[0m\u001b[1;33m]\u001b[0m\u001b[1;33m)\u001b[0m\u001b[1;33m\u001b[0m\u001b[1;33m\u001b[0m\u001b[0m\n\u001b[0m\u001b[0;32m      6\u001b[0m \u001b[0mplt\u001b[0m\u001b[1;33m.\u001b[0m\u001b[0mplot\u001b[0m\u001b[1;33m(\u001b[0m\u001b[0mhistory\u001b[0m\u001b[1;33m.\u001b[0m\u001b[0mhistory\u001b[0m\u001b[1;33m[\u001b[0m\u001b[1;34m'val_accuracy'\u001b[0m\u001b[1;33m]\u001b[0m\u001b[1;33m)\u001b[0m\u001b[1;33m\u001b[0m\u001b[1;33m\u001b[0m\u001b[0m\n\u001b[0;32m      7\u001b[0m \u001b[0mplt\u001b[0m\u001b[1;33m.\u001b[0m\u001b[0mtitle\u001b[0m\u001b[1;33m(\u001b[0m\u001b[1;34m'Model accuracy'\u001b[0m\u001b[1;33m)\u001b[0m\u001b[1;33m\u001b[0m\u001b[1;33m\u001b[0m\u001b[0m\n",
      "\u001b[1;31mNameError\u001b[0m: name 'history' is not defined"
     ]
    },
    {
     "data": {
      "image/png": "[encoded data removed]",
      "text/plain": [
       "<Figure size 1008x216 with 1 Axes>"
      ]
     },
     "metadata": {
      "needs_background": "light"
     },
     "output_type": "display_data"
    }
   ],
   "source": [
    "from matplotlib import pyplot as plt\n",
    "# Plot training & validation accuracy values\n",
    "plt.figure(figsize=(14,3))\n",
    "plt.subplot(1, 2, 1)\n",
    "plt.plot(history.history['accuracy'])\n",
    "plt.plot(history.history['val_accuracy'])\n",
    "plt.title('Model accuracy')\n",
    "plt.ylabel('Accuracy')\n",
    "plt.xlabel('Epoch')\n",
    "plt.legend(['Train', 'Test'], loc='upper left')\n",
    "# Plot training & validation loss values\n",
    "plt.subplot(1, 2, 2)\n",
    "plt.plot(history.history['loss'])\n",
    "plt.plot(history.history['val_loss'])\n",
    "plt.title('Model loss')\n",
    "plt.ylabel('Loss')\n",
    "plt.xlabel('Epoch')\n",
    "plt.legend(['Train', 'Test'], loc='upper left')\n",
    "plt.show()"
   ]
  },
  {
   "cell_type": "code",
   "execution_count": 28,
   "id": "331c65b7",
   "metadata": {},
   "outputs": [
    {
     "ename": "NameError",
     "evalue": "name 'df_Test' is not defined",
     "output_type": "error",
     "traceback": [
      "\u001b[1;31m---------------------------------------------------------------------------\u001b[0m",
      "\u001b[1;31mNameError\u001b[0m                                 Traceback (most recent call last)",
      "\u001b[1;32m<ipython-input-28-e0e9014be6f3>\u001b[0m in \u001b[0;36m<module>\u001b[1;34m\u001b[0m\n\u001b[0;32m      1\u001b[0m \u001b[0mdf_test\u001b[0m\u001b[1;33m=\u001b[0m\u001b[0mpd\u001b[0m\u001b[1;33m.\u001b[0m\u001b[0mread_csv\u001b[0m\u001b[1;33m(\u001b[0m\u001b[1;34m\"testFeatures.csv\"\u001b[0m\u001b[1;33m)\u001b[0m\u001b[1;33m\u001b[0m\u001b[1;33m\u001b[0m\u001b[0m\n\u001b[0;32m      2\u001b[0m \u001b[0mdf_test\u001b[0m\u001b[1;33m.\u001b[0m\u001b[0mtarih\u001b[0m\u001b[1;33m=\u001b[0m\u001b[0mdf_test\u001b[0m\u001b[1;33m.\u001b[0m\u001b[0mtarih\u001b[0m\u001b[1;33m.\u001b[0m\u001b[0mapply\u001b[0m\u001b[1;33m(\u001b[0m\u001b[0mpd\u001b[0m\u001b[1;33m.\u001b[0m\u001b[0mto_datetime\u001b[0m\u001b[1;33m)\u001b[0m\u001b[1;33m\u001b[0m\u001b[1;33m\u001b[0m\u001b[0m\n\u001b[1;32m----> 3\u001b[1;33m \u001b[0mdf_test\u001b[0m\u001b[1;33m[\u001b[0m\u001b[1;34m\"yıl\"\u001b[0m\u001b[1;33m]\u001b[0m\u001b[1;33m=\u001b[0m\u001b[0mdf_Test\u001b[0m\u001b[1;33m.\u001b[0m\u001b[0mtarih\u001b[0m\u001b[1;33m.\u001b[0m\u001b[0mdt\u001b[0m\u001b[1;33m.\u001b[0m\u001b[0myear\u001b[0m\u001b[1;33m\u001b[0m\u001b[1;33m\u001b[0m\u001b[0m\n\u001b[0m\u001b[0;32m      4\u001b[0m \u001b[0mdf_test\u001b[0m\u001b[1;33m[\u001b[0m\u001b[1;34m\"ay\"\u001b[0m\u001b[1;33m]\u001b[0m\u001b[1;33m=\u001b[0m\u001b[0mdf_test\u001b[0m\u001b[1;33m.\u001b[0m\u001b[0mtarih\u001b[0m\u001b[1;33m.\u001b[0m\u001b[0mdt\u001b[0m\u001b[1;33m.\u001b[0m\u001b[0mmonth\u001b[0m\u001b[1;33m\u001b[0m\u001b[1;33m\u001b[0m\u001b[0m\n\u001b[0;32m      5\u001b[0m \u001b[0mdf_test\u001b[0m\u001b[1;33m[\u001b[0m\u001b[1;34m\"ürün\"\u001b[0m\u001b[1;33m]\u001b[0m\u001b[1;33m=\u001b[0m\u001b[0mle\u001b[0m\u001b[1;33m.\u001b[0m\u001b[0mfit_transform\u001b[0m\u001b[1;33m(\u001b[0m\u001b[0mdf_test\u001b[0m\u001b[1;33m[\u001b[0m\u001b[1;34m\"ürün\"\u001b[0m\u001b[1;33m]\u001b[0m\u001b[1;33m)\u001b[0m\u001b[1;33m\u001b[0m\u001b[1;33m\u001b[0m\u001b[0m\n",
      "\u001b[1;31mNameError\u001b[0m: name 'df_Test' is not defined"
     ]
    }
   ],
   "source": [
    "df_test=pd.read_csv(\"testFeatures.csv\")\n",
    "df_test.tarih=df_test.tarih.apply(pd.to_datetime)\n",
    "df_test[\"yıl\"]=df_Test.tarih.dt.year\n",
    "df_test[\"ay\"]=df_test.tarih.dt.month\n",
    "df_test[\"ürün\"]=le.fit_transform(df_test[\"ürün\"])\n",
    "df_test[\"ürün kategorisi\"]=le.fit_transform(df_test[\"ürün kategorisi\"])\n",
    "df_test[\"ürün üretim yeri\"]=le.fit_transform(df_test[\"ürün üretim yeri\"])\n",
    "df_test[\"market\"]=le.fit_transform(df_test[\"market\"])\n",
    "df_test[\"şehir\"]=le.fit_transform(df_test[\"şehir\"])\n",
    "x_test=df_test.loc[:,[\"yıl\",\"ay\",\"ürün\",\"ürün besin değeri\",\"ürün kategorisi\"]]"
   ]
  },
  {
   "cell_type": "code",
   "execution_count": null,
   "id": "f494a479",
   "metadata": {
    "scrolled": true
   },
   "outputs": [],
   "source": [
    "df_test=df_test.drop(['id'], axis=1)\n",
    "sonuc=model.predict(x_test)"
   ]
  },
  {
   "cell_type": "code",
   "execution_count": null,
   "id": "decf63a8",
   "metadata": {},
   "outputs": [],
   "source": [
    "writer = pd.ExcelWriter('pandas_3.xlsx', engine='xlsxwriter')\n",
    "\n",
    "# Convert the dataframe to an XlsxWriter Excel object.\n",
    "sonuc.to_excel(writer, sheet_name='Sheet1')\n",
    "\n",
    "# Close the Pandas Excel writer and output the Excel file.\n",
    "writer.save()"
   ]
  },
  {
   "cell_type": "code",
   "execution_count": null,
   "id": "f4fd14c0",
   "metadata": {},
   "outputs": [],
   "source": []
  }
 ],
 "metadata": {
  "kernelspec": {
   "display_name": "Python 3",
   "language": "python",
   "name": "python3"
  },
  "language_info": {
   "codemirror_mode": {
    "name": "ipython",
    "version": 3
   },
   "file_extension": ".py",
   "mimetype": "text/x-python",
   "name": "python",
   "nbconvert_exporter": "python",
   "pygments_lexer": "ipython3",
   "version": "3.8.8"
  }
 },
 "nbformat": 4,
 "nbformat_minor": 5
}
