{
 "cells": [
  {
   "cell_type": "code",
   "execution_count": 1,
   "id": "3038d7db",
   "metadata": {
    "scrolled": true
   },
   "outputs": [],
   "source": [
    "from PIL import Image\n",
    "import qrcode\n",
    "\n",
    "image1 = Image.open('bilett.png')\n",
    "for k in range(60250,60267):\n",
    "    url = \"{}\".format(k)\n",
    "    QRcode = qrcode.QRCode(\n",
    "        error_correction=qrcode.constants.ERROR_CORRECT_H)\n",
    "    QRcode.add_data(url)\n",
    "    QRcode.make()\n",
    "    QRimg = QRcode.make_image(\n",
    "    fill_color =\"black\", back_color=\"white\").convert('RGB')\n",
    "    QRimg.save(\"images/{}Qrcode.png\".format(k))\n",
    "    image2 = Image.open(\"images/{}Qrcode.png\".format(k))\n",
    "    image1_size = image1.size\n",
    "    image2_size = image2.size\n",
    "    new_image = Image.new('RGB',(image1_size[0], image1_size[1]), (250,250,250))\n",
    "    new_image.paste(image1,(0,0))\n",
    "    new_image.paste(image2,(image1_size[0]-280,162))\n",
    "    new_image.save(\"imagesoutput3/{}merged_image.png\".format(k),\"PNG\")"
   ]
  },
  {
   "cell_type": "code",
   "execution_count": null,
   "id": "4e65b5fe",
   "metadata": {},
   "outputs": [],
   "source": []
  }
 ],
 "metadata": {
  "kernelspec": {
   "display_name": "Python 3 (ipykernel)",
   "language": "python",
   "name": "python3"
  },
  "language_info": {
   "codemirror_mode": {
    "name": "ipython",
    "version": 3
   },
   "file_extension": ".py",
   "mimetype": "text/x-python",
   "name": "python",
   "nbconvert_exporter": "python",
   "pygments_lexer": "ipython3",
   "version": "3.9.7"
  }
 },
 "nbformat": 4,
 "nbformat_minor": 5
}
